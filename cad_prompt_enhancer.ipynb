{
 "cells": [
  {
   "cell_type": "markdown",
   "metadata": {},
   "source": [
    "# CAD Prompt Enhancer"
   ]
  },
  {
   "cell_type": "markdown",
   "metadata": {},
   "source": [
    "This notebook takes a user's CAD generation prompt, enriches it with manufacturing knowledge through a series of LLM calls and knowledge base lookups, and then outputs a more detailed and manufacturable prompt for a CAD generation model."
   ]
  },
  {
   "cell_type": "markdown",
   "metadata": {},
   "source": [
    "## 1. User Inputs for LLM Configuration"
   ]
  },
  {
   "cell_type": "markdown",
   "metadata": {},
   "source": [
    "At each step, you can choose the LLM model you prefer by providing the API URL, request structure, API key, model name, and temperature."
   ]
  },
  {
   "cell_type": "code",
   "execution_count": null,
   "metadata": {},
   "outputs": [],
   "source": [
    "import ipywidgets as widgets\n",
    "from IPython.display import display\n",
    "\n",
    "style = {'description_width': 'initial'}\n",
    "\n",
    "deconstruction_llm_url = widgets.Text(description='Deconstruction LLM API URL:', style=style, layout=widgets.Layout(width='50%'))\n",
    "deconstruction_llm_key = widgets.Password(description='Deconstruction LLM API Key:', style=style, layout=widgets.Layout(width='50%'))\n",
    "deconstruction_llm_model = widgets.Text(description='Deconstruction LLM Model:', style=style, layout=widgets.Layout(width='50%'))\n",
    "deconstruction_llm_temp = widgets.FloatSlider(description='Deconstruction LLM Temp:', min=0, max=2, step=0.1, value=0.7, style=style)\n",
    "\n",
    "requirements_llm_url = widgets.Text(description='Requirements LLM API URL:', style=style, layout=widgets.Layout(width='50%'))\n",
    "requirements_llm_key = widgets.Password(description='Requirements LLM API Key:', style=style, layout=widgets.Layout(width='50%'))\n",
    "requirements_llm_model = widgets.Text(description='Requirements LLM Model:', style=style, layout=widgets.Layout(width='50%'))\n",
    "requirements_llm_temp = widgets.FloatSlider(description='Requirements LLM Temp:', min=0, max=2, step=0.1, value=0.7, style=style)\n",
    "\n",
    "inspiration_llm_url = widgets.Text(description='Inspiration LLM API URL:', style=style, layout=widgets.Layout(width='50%'))\n",
    "inspiration_llm_key = widgets.Password(description='Inspiration LLM API Key:', style=style, layout=widgets.Layout(width='50%'))\n",
    "inspiration_llm_model = widgets.Text(description='Inspiration LLM Model:', style=style, layout=widgets.Layout(width='50%'))\n",
    "inspiration_llm_temp = widgets.FloatSlider(description='Inspiration LLM Temp:', min=0, max=2, step=0.1, value=0.7, style=style)\n",
    "\n",
    "display(deconstruction_llm_url, deconstruction_llm_key, deconstruction_llm_model, deconstruction_llm_temp)\n",
    "display(requirements_llm_url, requirements_llm_key, requirements_llm_model, requirements_llm_temp)\n",
    "display(inspiration_llm_url, inspiration_llm_key, inspiration_llm_model, inspiration_llm_temp)"
   ]
  },
  {
   "cell_type": "markdown",
   "metadata": {},
   "source": [
    "## 2. Initial CAD Prompt"
   ]
  },
  {
   "cell_type": "code",
   "execution_count": null,
   "metadata": {},
   "outputs": [],
   "source": [
    "initial_prompt = widgets.Textarea(\n",
    "    description='Enter your initial CAD prompt:',\n",
    "    layout=widgets.Layout(width='100%', height='100px')\n",
    ")\n",
    "display(initial_prompt)"
   ]
  },
  {
   "cell_type": "markdown",
   "metadata": {},
   "source": [
    "## 3. Prompt Deconstruction"
   ]
  },
  {
   "cell_type": "markdown",
   "metadata": {},
   "source": [
    "The first LLM call deconstructs the prompt into intent, use case, and manufacturing process."
   ]
  },
  {
   "cell_type": "code",
   "execution_count": null,
   "metadata": {},
   "outputs": [],
   "source": [
    "import json\n",
    "import requests\n",
    "\n",
    "def deconstruct_prompt(api_url, api_key, model, temperature, prompt):\n",
    "    headers = {\n",
    "        'Authorization': f'Bearer {api_key}',\n",
    "        'Content-Type': 'application/json',\n",
    "    }\n",
    "    data = {\n",
    "        'model': model,\n",
    "        'temperature': temperature,\n",
    "        'messages': [\n",
    "            {\n",
    "                'role': 'system',\n",
    "                'content': 'You are an expert in manufacturing and CAD design. Your task is to deconstruct the given prompt into three parts: intent, use case, and manufacturing process. Respond with a JSON object with the keys \\\"intent\\\", \\\"use_case\\\", and \\\"manufacturing_process\\\".'\n",
    "            },\n",
    "            {\n",
    "                'role': 'user',\n",
    "                'content': prompt\n",
    "            }\n",
    "        ]\n",
    "    }\n",
    "    try:\n",
    "        response = requests.post(api_url, headers=headers, data=json.dumps(data))\n",
    "        response.raise_for_status()  # Raise an exception for bad status codes\n",
    "        return response.json()['choices'][0]['message']['content']\n",
    "    except requests.exceptions.RequestException as e:\n",
    "        return f\"An error occurred: {e}\"\n",
    "\n",
    "deconstruction_button = widgets.Button(description=\"Deconstruct Prompt\")\n",
    "deconstruction_output = widgets.Output()\n",
    "\n",
    "def on_deconstruction_button_clicked(b):\n",
    "    with deconstruction_output:\n",
    "        deconstruction_output.clear_output()\n",
    "        print(\"Deconstructing prompt...\")\n",
    "        result = deconstruct_prompt(\n",
    "            deconstruction_llm_url.value,\n",
    "            deconstruction_llm_key.value,\n",
    "            deconstruction_llm_model.value,\n",
    "            deconstruction_llm_temp.value,\n",
    "            initial_prompt.value\n",
    "        )\n",
    "        print(\"Deconstruction complete!\")\n",
    "        global deconstructed_prompt\n",
    "        deconstructed_prompt = json.loads(result)\n",
    "        print(json.dumps(deconstructed_prompt, indent=2))\n",
    "\n",
    "deconstruction_button.on_click(on_deconstruction_button_clicked)\n",
    "display(deconstruction_button, deconstruction_output)"
   ]
  },
  {
   "cell_type": "markdown",
   "metadata": {},
   "source": [
    "## 4. Knowledge Base Integration"
   ]
  },
  {
   "cell_type": "markdown",
   "metadata": {},
   "source": [
    "The deconstructed prompt is used to query a knowledge base for relevant manufacturing information."
   ]
  },
  {
   "cell_type": "code",
   "execution_count": null,
   "metadata": {},
   "outputs": [],
   "source": [
    "knowledge_base = {\n",
    "    \"manufacturing_processes\": {\n",
    "        \"cnc_machining\": {\n",
    "            \"description\": \"CNC (Computer Numerical Control) machining is a subtractive manufacturing process that uses computer-controlled machines to remove material from a workpiece.\",\n",
    "            \"materials\": [\"aluminum\", \"steel\", \"brass\", \"titanium\", \"plastic\"],\n",
    "            \"compatibilities\": [\"gears\", \"housings\", \"brackets\"],\n",
    "            \"constraints\": [\"Requires skilled operators\", \"Can be expensive for complex parts\"]\n",
    "        },\n",
    "        \"3d_printing\": {\n",
    "            \"description\": \"3D printing, or additive manufacturing, is a process of creating three-dimensional objects from a digital file.\",\n",
    "            \"materials\": [\"pla\", \"abs\", \"petg\", \"resin\"],\n",
    "            \"compatibilities\": [\"prototypes\", \"custom parts\", \"complex geometries\"],\n",
    "            \"constraints\": [\"Limited material selection\", \"Can be slow for large parts\"]\n",
    "        },\n",
    "        \"injection_molding\": {\n",
    "            \"description\": \"Injection molding is a manufacturing process for producing parts by injecting molten material into a mold.\",\n",
    "            \"materials\": [\"polypropylene\", \"polycarbonate\", \"abs\"],\n",
    "            \"compatibilities\": [\"mass production\", \"high-volume parts\"],\n",
    "            \"constraints\": [\"High initial tooling cost\", \"Long lead times for molds\"]\n",
    "        }\n",
    "    }\n",
    "}\n",
    "\n",
    "def query_knowledge_base(process):\n",
    "    return knowledge_base[\"manufacturing_processes\"].get(process, \"Process not found in knowledge base.\")\n",
    "\n",
    "knowledge_base_button = widgets.Button(description=\"Query Knowledge Base\")\n",
    "knowledge_base_output = widgets.Output()\n",
    "\n",
    "def on_knowledge_base_button_clicked(b):\n",
    "    with knowledge_base_output:\n",
    "        knowledge_base_output.clear_output()\n",
    "        manufacturing_process = deconstructed_prompt.get('manufacturing_process', '').lower().replace(' ', '_')\n",
    "        print(f\"Querying knowledge base for '{manufacturing_process}'...\")\n",
    "        global knowledge_base_context\n",
    "        knowledge_base_context = query_knowledge_base(manufacturing_process)\n",
    "        print(json.dumps(knowledge_base_context, indent=2))\n",
    "\n",
    "knowledge_base_button.on_click(on_knowledge_base_button_clicked)\n",
    "display(knowledge_base_button, knowledge_base_output)"
   ]
  },
  {
   "cell_type": "markdown",
   "metadata": {},
   "source": [
    "## 5. Requirements Generation"
   ]
  },
  {
   "cell_type": "markdown",
   "metadata": {},
   "source": [
    "The second LLM call uses the knowledge base context to generate proper requirements."
   ]
  },
  {
   "cell_type": "code",
   "execution_count": null,
   "metadata": {},
   "outputs": [],
   "source": [
    "def generate_requirements(api_url, api_key, model, temperature, prompt, context):\n",
    "    headers = {\n",
    "        'Authorization': f'Bearer {api_key}',\n",
    "        'Content-Type': 'application/json',\n",
    "    }\n",
    "    data = {\n",
    "        'model': model,\n",
    "        'temperature': temperature,\n",
    "        'messages': [\n",
    "            {\n",
    "                'role': 'system',\n",
    "                'content': 'You are an expert in manufacturing and CAD design. Your task is to generate a detailed list of requirements for a CAD model based on the user\\'s prompt and the provided knowledge base context. Respond with a JSON object with a single key \\\"requirements\\\" which is a list of strings.'\n",
    "            },\n",
    "            {\n",
    "                'role': 'user',\n",
    "                'content': f\"Prompt: {prompt}\\n\\nKnowledge Base Context: {context}\"\n",
    "            }\n",
    "        ]\n",
    "    }\n",
    "    try:\n",
    "        response = requests.post(api_url, headers=headers, data=json.dumps(data))\n",
    "        response.raise_for_status()  # Raise an exception for bad status codes\n",
    "        return response.json()['choices'][0]['message']['content']\n",
    "    except requests.exceptions.RequestException as e:\n",
    "        return f\"An error occurred: {e}\"\n",
    "\n",
    "requirements_button = widgets.Button(description=\"Generate Requirements\")\n",
    "requirements_output = widgets.Output()\n",
    "\n",
    "def on_requirements_button_clicked(b):\n",
    "    with requirements_output:\n",
    "        requirements_output.clear_output()\n",
    "        print(\"Generating requirements...\")\n",
    "        result = generate_requirements(\n",
    "            requirements_llm_url.value,\n",
    "            requirements_llm_key.value,\n",
    "            requirements_llm_model.value,\n",
    "            requirements_llm_temp.value,\n",
    "            initial_prompt.value,\n",
    "            knowledge_base_context\n",
    "        )\n",
    "        print(\"Requirements generation complete!\")\n",
    "        global requirements\n",
    "        requirements = json.loads(result)\n",
    "        print(json.dumps(requirements, indent=2))\n",
    "\n",
    "requirements_button.on_click(on_requirements_button_clicked)\n",
    "display(requirements_button, requirements_output)"
   ]
  },
  {
   "cell_type": "markdown",
   "metadata": {},
   "source": [
    "## 6. JSON Structuring"
   ]
  },
  {
   "cell_type": "markdown",
   "metadata": {},
   "source": [
    "The requirements are structured into a JSON format."
   ]
  },
  {
   "cell_type": "code",
   "execution_count": null,
   "metadata": {},
   "outputs": [],
   "source": [
    "json_button = widgets.Button(description=\"Structure as JSON\")\n",
    "json_output = widgets.Output()\n",
    "\n",
    "def on_json_button_clicked(b):\n",
    "    with json_output:\n",
    "        json_output.clear_output()\n",
    "        print(\"Structuring requirements as JSON...\")\n",
    "        global structured_requirements\n",
    "        structured_requirements = {\n",
    "            \"intent\": deconstructed_prompt.get('intent'),\n",
    "            \"use_case\": deconstructed_prompt.get('use_case'),\n",
    "            \"manufacturing_process\": deconstructed_prompt.get('manufacturing_process'),\n",
    "            \"requirements\": requirements.get('requirements')\n",
    "        }\n",
    "        print(json.dumps(structured_requirements, indent=2))\n",
    "\n",
    "json_button.on_click(on_json_button_clicked)\n",
    "display(json_button, json_output)"
   ]
  },
  {
   "cell_type": "markdown",
   "metadata": {},
   "source": [
    "## 7. Inspiration Generation (Multimodal LLM)"
   ]
  },
  {
   "cell_type": "markdown",
   "metadata": {},
   "source": [
    "The third LLM call (multimodal) generates a few parts of the entire design as inspiration."
   ]
  },
  {
   "cell_type": "code",
   "execution_count": null,
   "metadata": {},
   "outputs": [],
   "source": [
    "def generate_inspiration(api_url, api_key, model, temperature, prompt):\n",
    "    # This is a placeholder for a real multimodal LLM call.\n",
    "    # In a real scenario, this would return images or 3D model files.\n",
    "    print(f\"Calling multimodal LLM at {api_url} with model {model} and temperature {temperature}\")\n",
    "    return [\"inspiration_image_1.png\", \"inspiration_image_2.png\"] # Placeholder\n",
    "\n",
    "inspiration_button = widgets.Button(description=\"Generate Inspiration\")\n",
    "inspiration_output = widgets.Output()\n",
    "\n",
    "def on_inspiration_button_clicked(b):\n",
    "    with inspiration_output:\n",
    "        inspiration_output.clear_output()\n",
    "        print(\"Generating inspiration...\")\n",
    "        global inspiration\n",
    "        inspiration = generate_inspiration(\n",
    "            inspiration_llm_url.value,\n",
    "            inspiration_llm_key.value,\n",
    "            inspiration_llm_model.value,\n",
    "            inspiration_llm_temp.value,\n",
    "            json.dumps(structured_requirements)\n",
    "        )\n",
    "        print(\"Inspiration generation complete!\")\n",
    "        print(inspiration)\n",
    "\n",
    "inspiration_button.on_click(on_inspiration_button_clicked)\n",
    "display(inspiration_button, inspiration_output)"
   ]
  },
  {
   "cell_type": "markdown",
   "metadata": {},
   "source": [
    "## 8. Final CAD Prompt Generation"
   ]
  },
  {
   "cell_type": "markdown",
   "metadata": {},
   "source": [
    "The final, enriched prompt is generated for the CAD generation model."
   ]
  },
  {
   "cell_type": "code",
   "execution_count": null,
   "metadata": {},
   "outputs": [],
   "source": [
    "final_prompt_button = widgets.Button(description=\"Generate Final Prompt\")\n",
    "final_prompt_output = widgets.Output()\n",
    "\n",
    "def on_final_prompt_button_clicked(b):\n",
    "    with final_prompt_output:\n",
    "        final_prompt_output.clear_output()\n",
    "        print(\"Generating final prompt...\")\n",
    "        global final_prompt\n",
    "        final_prompt = {\n",
    "            \"structured_requirements\": structured_requirements,\n",
    "            \"inspiration\": inspiration\n",
    "        }\n",
    "        print(json.dumps(final_prompt, indent=2))\n",
    "\n",
    "final_prompt_button.on_click(on_final_prompt_button_clicked)\n",
    "display(final_prompt_button, final_prompt_output)"
   ]
  }
 ],
 "metadata": {
  "kernelspec": {
   "display_name": "Python 3",
   "language": "python",
   "name": "python3"
  },
  "language_info": {
   "codemirror_mode": {
    "name": "ipython",
    "version": 3
   },
   "file_extension": ".py",
   "mimetype": "text/x-python",
   "name": "python",
   "nbconvert_exporter": "python",
   "pygments_lexer": "ipython3",
   "version": "3.10.9"
  }
 },
 "nbformat": 4,
 "nbformat_minor": 4
}
